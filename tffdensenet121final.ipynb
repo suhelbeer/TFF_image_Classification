{
  "nbformat": 4,
  "nbformat_minor": 0,
  "metadata": {
    "accelerator": "GPU",
    "colab": {
      "name": "tffdensenet121final.ipynb",
      "provenance": [],
      "collapsed_sections": [],
      "machine_shape": "hm"
    },
    "kernelspec": {
      "display_name": "Python 3",
      "name": "python3"
    }
  },
  "cells": [
    {
      "cell_type": "markdown",
      "metadata": {
        "id": "FgVfBlvZDEja"
      },
      "source": [
        "# GPU Information"
      ]
    },
    {
      "cell_type": "code",
      "metadata": {
        "colab": {
          "base_uri": "https://localhost:8080/"
        },
        "id": "rxlkxvkrCyin",
        "outputId": "27776822-8f3c-472f-9a27-964bb8604113"
      },
      "source": [
        "! nvidia-smi"
      ],
      "execution_count": 2,
      "outputs": [
        {
          "output_type": "stream",
          "text": [
            "Tue Dec  8 03:03:31 2020       \n",
            "+-----------------------------------------------------------------------------+\n",
            "| NVIDIA-SMI 455.45.01    Driver Version: 418.67       CUDA Version: 10.1     |\n",
            "|-------------------------------+----------------------+----------------------+\n",
            "| GPU  Name        Persistence-M| Bus-Id        Disp.A | Volatile Uncorr. ECC |\n",
            "| Fan  Temp  Perf  Pwr:Usage/Cap|         Memory-Usage | GPU-Util  Compute M. |\n",
            "|                               |                      |               MIG M. |\n",
            "|===============================+======================+======================|\n",
            "|   0  Tesla P100-PCIE...  Off  | 00000000:00:04.0 Off |                    0 |\n",
            "| N/A   33C    P0    25W / 250W |      0MiB / 16280MiB |      0%      Default |\n",
            "|                               |                      |                 ERR! |\n",
            "+-------------------------------+----------------------+----------------------+\n",
            "                                                                               \n",
            "+-----------------------------------------------------------------------------+\n",
            "| Processes:                                                                  |\n",
            "|  GPU   GI   CI        PID   Type   Process name                  GPU Memory |\n",
            "|        ID   ID                                                   Usage      |\n",
            "|=============================================================================|\n",
            "|  No running processes found                                                 |\n",
            "+-----------------------------------------------------------------------------+\n"
          ],
          "name": "stdout"
        }
      ]
    },
    {
      "cell_type": "code",
      "metadata": {
        "id": "jyDODoaWC6KI"
      },
      "source": [
        ""
      ],
      "execution_count": 2,
      "outputs": []
    },
    {
      "cell_type": "code",
      "metadata": {
        "colab": {
          "base_uri": "https://localhost:8080/"
        },
        "id": "bTEwxGcADoXJ",
        "outputId": "b69f2390-d506-44f3-f789-fd74f39590aa"
      },
      "source": [
        "from google.colab import drive\n",
        "drive.mount('/content/drive')"
      ],
      "execution_count": 3,
      "outputs": [
        {
          "output_type": "stream",
          "text": [
            "Mounted at /content/drive\n"
          ],
          "name": "stdout"
        }
      ]
    },
    {
      "cell_type": "code",
      "metadata": {
        "id": "BDNXRWwfDpqN"
      },
      "source": [
        "import numpy as np # linear algebra\n",
        "import pandas as pd # data processing, CSV file I/O (e.g. pd.read_csv)\n",
        "\n",
        "# Input data files are available in the read-only \"../input/\" directory\n",
        "# For example, running this (by clicking run or pressing Shift+Enter) will list all files under the input directory\n",
        "\n",
        "import os\n",
        "\n",
        "\n"
      ],
      "execution_count": 4,
      "outputs": []
    },
    {
      "cell_type": "code",
      "metadata": {
        "id": "Vp2oblfkEArC"
      },
      "source": [
        "import matplotlib.pyplot as plt\n",
        "import seaborn as sns\n",
        "import keras\n",
        "from keras.models import Sequential\n",
        "from keras.layers import Dense, Conv2D , MaxPool2D , Flatten , Dropout , BatchNormalization\n",
        "from keras.preprocessing.image import ImageDataGenerator\n",
        "from sklearn.model_selection import train_test_split\n",
        "from sklearn.metrics import classification_report,confusion_matrix\n",
        "from keras.callbacks import ReduceLROnPlateau\n",
        "import cv2\n",
        "import os\n",
        "\n",
        "from keras.applications.inception_v3 import InceptionV3\n",
        "from keras.applications.densenet import DenseNet121\n",
        "from keras.preprocessing import image\n",
        "from keras.models import Model\n",
        "from keras.layers import Dense, Input, GlobalAveragePooling2D, MaxPooling2D, Flatten, BatchNormalization, Dropout\n",
        "from keras.callbacks import ModelCheckpoint\n",
        "from keras import backend as K\n",
        "import tensorflow as tf\n",
        "import matplotlib.pyplot as plt\n",
        "\n",
        "\n"
      ],
      "execution_count": 5,
      "outputs": []
    },
    {
      "cell_type": "code",
      "metadata": {
        "colab": {
          "base_uri": "https://localhost:8080/",
          "height": 1000
        },
        "id": "hCu4lg9VEDSE",
        "outputId": "3b8b8070-8057-4381-8e2b-8fd10f07d802"
      },
      "source": [
        "!pip install --upgrade tensorflow_federated\n",
        "\n",
        "!pip install --upgrade nest_asyncio\n",
        "\n",
        "import nest_asyncio\n",
        "nest_asyncio.apply()\n",
        "import tensorflow_federated as tff\n",
        "import collections\n",
        "import numpy as np\n",
        "\n",
        "\n"
      ],
      "execution_count": 6,
      "outputs": [
        {
          "output_type": "stream",
          "text": [
            "Collecting tensorflow_federated\n",
            "\u001b[?25l  Downloading https://files.pythonhosted.org/packages/5c/54/900d99d3cff21b6a570281b51f4878a745c0eece7732bb7fc26eee61ef57/tensorflow_federated-0.17.0-py2.py3-none-any.whl (517kB)\n",
            "\u001b[K     |████████████████████████████████| 522kB 8.6MB/s \n",
            "\u001b[?25hCollecting grpcio~=1.29.0\n",
            "\u001b[?25l  Downloading https://files.pythonhosted.org/packages/cd/04/2b67f0a3645481235d5547891fd0e45e384f1ae5676788f24a7c8735b4e9/grpcio-1.29.0-cp36-cp36m-manylinux2010_x86_64.whl (3.0MB)\n",
            "\u001b[K     |████████████████████████████████| 3.0MB 12.8MB/s \n",
            "\u001b[?25hCollecting semantic-version~=2.8.5\n",
            "  Downloading https://files.pythonhosted.org/packages/a5/15/00ef3b7888a10363b7c402350eda3acf395ff05bebae312d1296e528516a/semantic_version-2.8.5-py2.py3-none-any.whl\n",
            "Collecting tensorflow-model-optimization~=0.4.0\n",
            "\u001b[?25l  Downloading https://files.pythonhosted.org/packages/1a/cc/4b0831f492396f03a4563cc749ad94cbf7af986aaa7a7d89e5979029ce5c/tensorflow_model_optimization-0.4.1-py2.py3-none-any.whl (172kB)\n",
            "\u001b[K     |████████████████████████████████| 174kB 28.4MB/s \n",
            "\u001b[?25hRequirement already satisfied, skipping upgrade: h5py~=2.10.0 in /usr/local/lib/python3.6/dist-packages (from tensorflow_federated) (2.10.0)\n",
            "Collecting attrs~=19.3.0\n",
            "  Downloading https://files.pythonhosted.org/packages/a2/db/4313ab3be961f7a763066401fb77f7748373b6094076ae2bda2806988af6/attrs-19.3.0-py2.py3-none-any.whl\n",
            "Requirement already satisfied, skipping upgrade: portpicker~=1.3.1 in /usr/local/lib/python3.6/dist-packages (from tensorflow_federated) (1.3.1)\n",
            "Requirement already satisfied, skipping upgrade: retrying~=1.3.3 in /usr/local/lib/python3.6/dist-packages (from tensorflow_federated) (1.3.3)\n",
            "Requirement already satisfied, skipping upgrade: tensorflow~=2.3.0 in /usr/local/lib/python3.6/dist-packages (from tensorflow_federated) (2.3.0)\n",
            "Collecting tensorflow-privacy~=0.5.0\n",
            "\u001b[?25l  Downloading https://files.pythonhosted.org/packages/41/ae/7db0dcf76a746314a174578a7b99ff098b40b908c4c693a955a2bbc0127b/tensorflow_privacy-0.5.1-py3-none-any.whl (149kB)\n",
            "\u001b[K     |████████████████████████████████| 153kB 51.2MB/s \n",
            "\u001b[?25hRequirement already satisfied, skipping upgrade: numpy~=1.18.4 in /usr/local/lib/python3.6/dist-packages (from tensorflow_federated) (1.18.5)\n",
            "Collecting tensorflow-addons~=0.11.1\n",
            "\u001b[?25l  Downloading https://files.pythonhosted.org/packages/b3/f8/d6fca180c123f2851035c4493690662ebdad0849a9059d56035434bff5c9/tensorflow_addons-0.11.2-cp36-cp36m-manylinux2010_x86_64.whl (1.1MB)\n",
            "\u001b[K     |████████████████████████████████| 1.1MB 41.8MB/s \n",
            "\u001b[?25hCollecting cachetools~=3.1.1\n",
            "  Downloading https://files.pythonhosted.org/packages/2f/a6/30b0a0bef12283e83e58c1d6e7b5aabc7acfc4110df81a4471655d33e704/cachetools-3.1.1-py2.py3-none-any.whl\n",
            "Collecting absl-py~=0.9.0\n",
            "\u001b[?25l  Downloading https://files.pythonhosted.org/packages/1a/53/9243c600e047bd4c3df9e69cfabc1e8004a82cac2e0c484580a78a94ba2a/absl-py-0.9.0.tar.gz (104kB)\n",
            "\u001b[K     |████████████████████████████████| 112kB 66.5MB/s \n",
            "\u001b[?25hRequirement already satisfied, skipping upgrade: dm-tree~=0.1.1 in /usr/local/lib/python3.6/dist-packages (from tensorflow_federated) (0.1.5)\n",
            "Requirement already satisfied, skipping upgrade: six>=1.5.2 in /usr/local/lib/python3.6/dist-packages (from grpcio~=1.29.0->tensorflow_federated) (1.15.0)\n",
            "Requirement already satisfied, skipping upgrade: wrapt>=1.11.1 in /usr/local/lib/python3.6/dist-packages (from tensorflow~=2.3.0->tensorflow_federated) (1.12.1)\n",
            "Requirement already satisfied, skipping upgrade: keras-preprocessing<1.2,>=1.1.1 in /usr/local/lib/python3.6/dist-packages (from tensorflow~=2.3.0->tensorflow_federated) (1.1.2)\n",
            "Requirement already satisfied, skipping upgrade: astunparse==1.6.3 in /usr/local/lib/python3.6/dist-packages (from tensorflow~=2.3.0->tensorflow_federated) (1.6.3)\n",
            "Requirement already satisfied, skipping upgrade: wheel>=0.26 in /usr/local/lib/python3.6/dist-packages (from tensorflow~=2.3.0->tensorflow_federated) (0.35.1)\n",
            "Requirement already satisfied, skipping upgrade: termcolor>=1.1.0 in /usr/local/lib/python3.6/dist-packages (from tensorflow~=2.3.0->tensorflow_federated) (1.1.0)\n",
            "Requirement already satisfied, skipping upgrade: scipy==1.4.1 in /usr/local/lib/python3.6/dist-packages (from tensorflow~=2.3.0->tensorflow_federated) (1.4.1)\n",
            "Requirement already satisfied, skipping upgrade: google-pasta>=0.1.8 in /usr/local/lib/python3.6/dist-packages (from tensorflow~=2.3.0->tensorflow_federated) (0.2.0)\n",
            "Requirement already satisfied, skipping upgrade: opt-einsum>=2.3.2 in /usr/local/lib/python3.6/dist-packages (from tensorflow~=2.3.0->tensorflow_federated) (3.3.0)\n",
            "Requirement already satisfied, skipping upgrade: tensorflow-estimator<2.4.0,>=2.3.0 in /usr/local/lib/python3.6/dist-packages (from tensorflow~=2.3.0->tensorflow_federated) (2.3.0)\n",
            "Requirement already satisfied, skipping upgrade: protobuf>=3.9.2 in /usr/local/lib/python3.6/dist-packages (from tensorflow~=2.3.0->tensorflow_federated) (3.12.4)\n",
            "Requirement already satisfied, skipping upgrade: tensorboard<3,>=2.3.0 in /usr/local/lib/python3.6/dist-packages (from tensorflow~=2.3.0->tensorflow_federated) (2.3.0)\n",
            "Requirement already satisfied, skipping upgrade: gast==0.3.3 in /usr/local/lib/python3.6/dist-packages (from tensorflow~=2.3.0->tensorflow_federated) (0.3.3)\n",
            "Requirement already satisfied, skipping upgrade: mpmath in /usr/local/lib/python3.6/dist-packages (from tensorflow-privacy~=0.5.0->tensorflow_federated) (1.1.0)\n",
            "Requirement already satisfied, skipping upgrade: typeguard>=2.7 in /usr/local/lib/python3.6/dist-packages (from tensorflow-addons~=0.11.1->tensorflow_federated) (2.7.1)\n",
            "Requirement already satisfied, skipping upgrade: setuptools in /usr/local/lib/python3.6/dist-packages (from protobuf>=3.9.2->tensorflow~=2.3.0->tensorflow_federated) (50.3.2)\n",
            "Requirement already satisfied, skipping upgrade: requests<3,>=2.21.0 in /usr/local/lib/python3.6/dist-packages (from tensorboard<3,>=2.3.0->tensorflow~=2.3.0->tensorflow_federated) (2.23.0)\n",
            "Requirement already satisfied, skipping upgrade: werkzeug>=0.11.15 in /usr/local/lib/python3.6/dist-packages (from tensorboard<3,>=2.3.0->tensorflow~=2.3.0->tensorflow_federated) (1.0.1)\n",
            "Requirement already satisfied, skipping upgrade: google-auth<2,>=1.6.3 in /usr/local/lib/python3.6/dist-packages (from tensorboard<3,>=2.3.0->tensorflow~=2.3.0->tensorflow_federated) (1.17.2)\n",
            "Requirement already satisfied, skipping upgrade: tensorboard-plugin-wit>=1.6.0 in /usr/local/lib/python3.6/dist-packages (from tensorboard<3,>=2.3.0->tensorflow~=2.3.0->tensorflow_federated) (1.7.0)\n",
            "Requirement already satisfied, skipping upgrade: google-auth-oauthlib<0.5,>=0.4.1 in /usr/local/lib/python3.6/dist-packages (from tensorboard<3,>=2.3.0->tensorflow~=2.3.0->tensorflow_federated) (0.4.2)\n",
            "Requirement already satisfied, skipping upgrade: markdown>=2.6.8 in /usr/local/lib/python3.6/dist-packages (from tensorboard<3,>=2.3.0->tensorflow~=2.3.0->tensorflow_federated) (3.3.3)\n",
            "Requirement already satisfied, skipping upgrade: urllib3!=1.25.0,!=1.25.1,<1.26,>=1.21.1 in /usr/local/lib/python3.6/dist-packages (from requests<3,>=2.21.0->tensorboard<3,>=2.3.0->tensorflow~=2.3.0->tensorflow_federated) (1.24.3)\n",
            "Requirement already satisfied, skipping upgrade: chardet<4,>=3.0.2 in /usr/local/lib/python3.6/dist-packages (from requests<3,>=2.21.0->tensorboard<3,>=2.3.0->tensorflow~=2.3.0->tensorflow_federated) (3.0.4)\n",
            "Requirement already satisfied, skipping upgrade: certifi>=2017.4.17 in /usr/local/lib/python3.6/dist-packages (from requests<3,>=2.21.0->tensorboard<3,>=2.3.0->tensorflow~=2.3.0->tensorflow_federated) (2020.11.8)\n",
            "Requirement already satisfied, skipping upgrade: idna<3,>=2.5 in /usr/local/lib/python3.6/dist-packages (from requests<3,>=2.21.0->tensorboard<3,>=2.3.0->tensorflow~=2.3.0->tensorflow_federated) (2.10)\n",
            "Requirement already satisfied, skipping upgrade: pyasn1-modules>=0.2.1 in /usr/local/lib/python3.6/dist-packages (from google-auth<2,>=1.6.3->tensorboard<3,>=2.3.0->tensorflow~=2.3.0->tensorflow_federated) (0.2.8)\n",
            "Requirement already satisfied, skipping upgrade: rsa<5,>=3.1.4; python_version >= \"3\" in /usr/local/lib/python3.6/dist-packages (from google-auth<2,>=1.6.3->tensorboard<3,>=2.3.0->tensorflow~=2.3.0->tensorflow_federated) (4.6)\n",
            "Requirement already satisfied, skipping upgrade: requests-oauthlib>=0.7.0 in /usr/local/lib/python3.6/dist-packages (from google-auth-oauthlib<0.5,>=0.4.1->tensorboard<3,>=2.3.0->tensorflow~=2.3.0->tensorflow_federated) (1.3.0)\n",
            "Requirement already satisfied, skipping upgrade: importlib-metadata; python_version < \"3.8\" in /usr/local/lib/python3.6/dist-packages (from markdown>=2.6.8->tensorboard<3,>=2.3.0->tensorflow~=2.3.0->tensorflow_federated) (2.0.0)\n",
            "Requirement already satisfied, skipping upgrade: pyasn1<0.5.0,>=0.4.6 in /usr/local/lib/python3.6/dist-packages (from pyasn1-modules>=0.2.1->google-auth<2,>=1.6.3->tensorboard<3,>=2.3.0->tensorflow~=2.3.0->tensorflow_federated) (0.4.8)\n",
            "Requirement already satisfied, skipping upgrade: oauthlib>=3.0.0 in /usr/local/lib/python3.6/dist-packages (from requests-oauthlib>=0.7.0->google-auth-oauthlib<0.5,>=0.4.1->tensorboard<3,>=2.3.0->tensorflow~=2.3.0->tensorflow_federated) (3.1.0)\n",
            "Requirement already satisfied, skipping upgrade: zipp>=0.5 in /usr/local/lib/python3.6/dist-packages (from importlib-metadata; python_version < \"3.8\"->markdown>=2.6.8->tensorboard<3,>=2.3.0->tensorflow~=2.3.0->tensorflow_federated) (3.4.0)\n",
            "Building wheels for collected packages: absl-py\n",
            "  Building wheel for absl-py (setup.py) ... \u001b[?25l\u001b[?25hdone\n",
            "  Created wheel for absl-py: filename=absl_py-0.9.0-cp36-none-any.whl size=121933 sha256=8e7dd962e8e26cd856cb7354763c0eef049daa6d69c03287940140c4e125464b\n",
            "  Stored in directory: /root/.cache/pip/wheels/8e/28/49/fad4e7f0b9a1227708cbbee4487ac8558a7334849cb81c813d\n",
            "Successfully built absl-py\n",
            "\u001b[31mERROR: datascience 0.10.6 has requirement folium==0.2.1, but you'll have folium 0.8.3 which is incompatible.\u001b[0m\n",
            "Installing collected packages: grpcio, semantic-version, tensorflow-model-optimization, attrs, tensorflow-privacy, tensorflow-addons, cachetools, absl-py, tensorflow-federated\n",
            "  Found existing installation: grpcio 1.33.2\n",
            "    Uninstalling grpcio-1.33.2:\n",
            "      Successfully uninstalled grpcio-1.33.2\n",
            "  Found existing installation: attrs 20.3.0\n",
            "    Uninstalling attrs-20.3.0:\n",
            "      Successfully uninstalled attrs-20.3.0\n",
            "  Found existing installation: tensorflow-privacy 0.2.2\n",
            "    Uninstalling tensorflow-privacy-0.2.2:\n",
            "      Successfully uninstalled tensorflow-privacy-0.2.2\n",
            "  Found existing installation: tensorflow-addons 0.8.3\n",
            "    Uninstalling tensorflow-addons-0.8.3:\n",
            "      Successfully uninstalled tensorflow-addons-0.8.3\n",
            "  Found existing installation: cachetools 4.1.1\n",
            "    Uninstalling cachetools-4.1.1:\n",
            "      Successfully uninstalled cachetools-4.1.1\n",
            "  Found existing installation: absl-py 0.10.0\n",
            "    Uninstalling absl-py-0.10.0:\n",
            "      Successfully uninstalled absl-py-0.10.0\n",
            "Successfully installed absl-py-0.9.0 attrs-19.3.0 cachetools-3.1.1 grpcio-1.29.0 semantic-version-2.8.5 tensorflow-addons-0.11.2 tensorflow-federated-0.17.0 tensorflow-model-optimization-0.4.1 tensorflow-privacy-0.5.1\n"
          ],
          "name": "stdout"
        },
        {
          "output_type": "display_data",
          "data": {
            "application/vnd.colab-display-data+json": {
              "pip_warning": {
                "packages": [
                  "absl"
                ]
              }
            }
          },
          "metadata": {
            "tags": []
          }
        },
        {
          "output_type": "stream",
          "text": [
            "Requirement already up-to-date: nest_asyncio in /usr/local/lib/python3.6/dist-packages (1.4.3)\n"
          ],
          "name": "stdout"
        }
      ]
    },
    {
      "cell_type": "code",
      "metadata": {
        "id": "JEhEoV5uEGlI"
      },
      "source": [
        "from tensorflow import reshape, nest, config\n",
        "from tensorflow.keras import losses, metrics, optimizers\n",
        "import pickle"
      ],
      "execution_count": 7,
      "outputs": []
    },
    {
      "cell_type": "code",
      "metadata": {
        "id": "l6wH7gdhezpm"
      },
      "source": [
        "import time"
      ],
      "execution_count": 8,
      "outputs": []
    },
    {
      "cell_type": "code",
      "metadata": {
        "id": "_K14C5CaEOKe"
      },
      "source": [
        "with open(\"/content/drive/MyDrive/x_train2243.pkl\", 'rb') as f:\n",
        "     x_train= pickle.load(f)"
      ],
      "execution_count": 17,
      "outputs": []
    },
    {
      "cell_type": "code",
      "metadata": {
        "id": "DsEWKyp-EXp9"
      },
      "source": [
        "with open(\"/content/drive/MyDrive/y_train2243.pkl\", 'rb') as f:\n",
        "     y_train= pickle.load(f)"
      ],
      "execution_count": 18,
      "outputs": []
    },
    {
      "cell_type": "code",
      "metadata": {
        "id": "kKVRnmxXFBgO"
      },
      "source": [
        ""
      ],
      "execution_count": 18,
      "outputs": []
    },
    {
      "cell_type": "code",
      "metadata": {
        "id": "0w-oPG-U8gs2"
      },
      "source": [
        ""
      ],
      "execution_count": 18,
      "outputs": []
    },
    {
      "cell_type": "code",
      "metadata": {
        "id": "H8yMAwTQ8hJB"
      },
      "source": [
        "with open(\"/content/drive/MyDrive/x_test2243.pkl\", 'rb') as f:\n",
        "     x_test= pickle.load(f)"
      ],
      "execution_count": 19,
      "outputs": []
    },
    {
      "cell_type": "code",
      "metadata": {
        "id": "MnU_yYlO8hJB"
      },
      "source": [
        "with open(\"/content/drive/MyDrive/y_test2243.pkl\", 'rb') as f:\n",
        "     y_test= pickle.load(f)"
      ],
      "execution_count": 20,
      "outputs": []
    },
    {
      "cell_type": "code",
      "metadata": {
        "id": "xZIHwsVvWuGo"
      },
      "source": [
        "#print(len(y_test))"
      ],
      "execution_count": 21,
      "outputs": []
    },
    {
      "cell_type": "code",
      "metadata": {
        "colab": {
          "base_uri": "https://localhost:8080/"
        },
        "id": "nwfCM2PnN1Sy",
        "outputId": "e070b20c-94e9-4d27-b46b-078af814f082"
      },
      "source": [
        "print(x_train[1].shape)"
      ],
      "execution_count": 22,
      "outputs": [
        {
          "output_type": "stream",
          "text": [
            "(224, 224, 3)\n"
          ],
          "name": "stdout"
        }
      ]
    },
    {
      "cell_type": "code",
      "metadata": {
        "id": "YwYj4_B-8t--"
      },
      "source": [
        "# x_test= x_train[:500]\n",
        "# y_test= y_train[:500]"
      ],
      "execution_count": 23,
      "outputs": []
    },
    {
      "cell_type": "code",
      "metadata": {
        "colab": {
          "base_uri": "https://localhost:8080/"
        },
        "id": "QRyZvrXW9ClP",
        "outputId": "af9cc45c-0417-41e0-a9c5-469e86b4fee4"
      },
      "source": [
        "print(len(y_test))"
      ],
      "execution_count": 24,
      "outputs": [
        {
          "output_type": "stream",
          "text": [
            "624\n"
          ],
          "name": "stdout"
        }
      ]
    },
    {
      "cell_type": "code",
      "metadata": {
        "id": "dqqGnoQJtgUf"
      },
      "source": [
        "x_test = np.array(x_test, dtype=np.float32).reshape(624, 224, 224, 3)\n",
        "y_test = np.array(y_test, dtype=np.int32).reshape(624, 1)"
      ],
      "execution_count": 25,
      "outputs": []
    },
    {
      "cell_type": "code",
      "metadata": {
        "id": "QoI0IyXjEpjQ"
      },
      "source": [
        "experiment_name = \"DenseNet121\"\n",
        "method = \"tff_training\"\n",
        "client_lr = 0.2   #Rmsprop\n",
        "server_lr = 1.0   #Rmsprop\n",
        "split = 2\n",
        "NUM_ROUNDS = 21\n",
        "NUM_EPOCHS = 5\n",
        "BATCH_SIZE = 32\n",
        "PREFETCH_BUFFER = 10"
      ],
      "execution_count": 26,
      "outputs": []
    },
    {
      "cell_type": "code",
      "metadata": {
        "colab": {
          "base_uri": "https://localhost:8080/"
        },
        "id": "SmmSXg3DE96W",
        "outputId": "0960407d-7a2d-4713-ebec-852703e4ba14"
      },
      "source": [
        "total_image_count = len(x_train)\n",
        "image_per_set = int(np.floor(total_image_count/split))\n",
        "\n",
        "client_train_dataset = collections.OrderedDict()\n",
        "for i in range(1, split+1):\n",
        "    client_name = \"client_\" + str(i)\n",
        "    start = image_per_set * (i-1)\n",
        "    end = image_per_set * i\n",
        "\n",
        "    print(f\"Adding data from {start} to {end} for client : {client_name}\")\n",
        "    data = collections.OrderedDict((('label', y_train[start:end]), ('pixels', x_train[start:end])))\n",
        "    client_train_dataset[client_name] = data"
      ],
      "execution_count": 27,
      "outputs": [
        {
          "output_type": "stream",
          "text": [
            "Adding data from 0 to 2613 for client : client_1\n",
            "Adding data from 2613 to 5226 for client : client_2\n"
          ],
          "name": "stdout"
        }
      ]
    },
    {
      "cell_type": "code",
      "metadata": {
        "id": "mDIX9xCA8xrP"
      },
      "source": [
        "# total_image_count = len(x_test)\n",
        "# image_per_set = int(np.floor(total_image_count/split))\n",
        "\n",
        "# client_test_dataset = collections.OrderedDict()\n",
        "# for i in range(1, split+1):\n",
        "#     client_name = \"client_\" + str(i)\n",
        "#     start = image_per_set * (i-1)\n",
        "#     end = image_per_set * i\n",
        "\n",
        "#     print(f\"Adding data from {start} to {end} for client : {client_name}\")\n",
        "#     data = collections.OrderedDict((('label', y_test[start:end]), ('pixels', x_test[start:end])))\n",
        "#     client_test_dataset[client_name] = data"
      ],
      "execution_count": 28,
      "outputs": []
    },
    {
      "cell_type": "code",
      "metadata": {
        "id": "0JKcHWWN8xrR"
      },
      "source": [
        ""
      ],
      "execution_count": 28,
      "outputs": []
    },
    {
      "cell_type": "code",
      "metadata": {
        "id": "MBqj-GfS8xrR"
      },
      "source": [
        ""
      ],
      "execution_count": 28,
      "outputs": []
    },
    {
      "cell_type": "code",
      "metadata": {
        "id": "kP5CbR0FFJnL"
      },
      "source": [
        "train_dataset = tff.simulation.FromTensorSlicesClientData(client_train_dataset)\n",
        "#test_dataset = tff.simulation.FromTensorSlicesClientData(client_test_dataset)\n",
        "sample_dataset = train_dataset.create_tf_dataset_for_client(train_dataset.client_ids[0])\n",
        "sample_element = next(iter(sample_dataset))\n",
        "\n"
      ],
      "execution_count": 29,
      "outputs": []
    },
    {
      "cell_type": "code",
      "metadata": {
        "id": "Kqnx3-3aFNwD"
      },
      "source": [
        "SHUFFLE_BUFFER = image_per_set\n",
        "\n",
        "def preprocess(dataset):\n",
        "\n",
        "  def batch_format_fn(element):\n",
        "    \"\"\"Flatten a batch `pixels` and return the features as an `OrderedDict`.\"\"\"\n",
        "\n",
        "    return collections.OrderedDict(\n",
        "        x=reshape(element['pixels'], [-1, 224, 224, 3]),\n",
        "        y=reshape(element['label'], [-1, 1]))\n",
        "\n",
        "  return dataset.repeat(NUM_EPOCHS).shuffle(SHUFFLE_BUFFER).batch(\n",
        "      BATCH_SIZE).map(batch_format_fn).prefetch(PREFETCH_BUFFER)\n",
        "\n"
      ],
      "execution_count": 30,
      "outputs": []
    },
    {
      "cell_type": "code",
      "metadata": {
        "colab": {
          "base_uri": "https://localhost:8080/"
        },
        "id": "WVNcCVuAFP_3",
        "outputId": "02722857-dbfe-42a3-eb4e-5d89d33327e0"
      },
      "source": [
        "preprocessed_sample_dataset = preprocess(sample_dataset)\n",
        "sample_batch = nest.map_structure(lambda x: x.numpy(), next(iter(preprocessed_sample_dataset)))\n",
        "sample_batch"
      ],
      "execution_count": 31,
      "outputs": [
        {
          "output_type": "execute_result",
          "data": {
            "text/plain": [
              "OrderedDict([('x', array([[[[0.07450981, 0.07450981, 0.07450981],\n",
              "                       [0.09019608, 0.09019608, 0.09019608],\n",
              "                       [0.10588235, 0.10588235, 0.10588235],\n",
              "                       ...,\n",
              "                       [0.        , 0.        , 0.        ],\n",
              "                       [0.        , 0.        , 0.        ],\n",
              "                       [0.        , 0.        , 0.        ]],\n",
              "              \n",
              "                      [[0.07450981, 0.07450981, 0.07450981],\n",
              "                       [0.09019608, 0.09019608, 0.09019608],\n",
              "                       [0.10588235, 0.10588235, 0.10588235],\n",
              "                       ...,\n",
              "                       [0.        , 0.        , 0.        ],\n",
              "                       [0.        , 0.        , 0.        ],\n",
              "                       [0.        , 0.        , 0.        ]],\n",
              "              \n",
              "                      [[0.07058824, 0.07058824, 0.07058824],\n",
              "                       [0.08627451, 0.08627451, 0.08627451],\n",
              "                       [0.10196079, 0.10196079, 0.10196079],\n",
              "                       ...,\n",
              "                       [0.        , 0.        , 0.        ],\n",
              "                       [0.        , 0.        , 0.        ],\n",
              "                       [0.        , 0.        , 0.        ]],\n",
              "              \n",
              "                      ...,\n",
              "              \n",
              "                      [[0.        , 0.        , 0.        ],\n",
              "                       [0.        , 0.        , 0.        ],\n",
              "                       [0.        , 0.        , 0.        ],\n",
              "                       ...,\n",
              "                       [0.        , 0.        , 0.        ],\n",
              "                       [0.        , 0.        , 0.        ],\n",
              "                       [0.        , 0.        , 0.        ]],\n",
              "              \n",
              "                      [[0.        , 0.        , 0.        ],\n",
              "                       [0.        , 0.        , 0.        ],\n",
              "                       [0.        , 0.        , 0.        ],\n",
              "                       ...,\n",
              "                       [0.        , 0.        , 0.        ],\n",
              "                       [0.        , 0.        , 0.        ],\n",
              "                       [0.        , 0.        , 0.        ]],\n",
              "              \n",
              "                      [[0.        , 0.        , 0.        ],\n",
              "                       [0.        , 0.        , 0.        ],\n",
              "                       [0.        , 0.        , 0.        ],\n",
              "                       ...,\n",
              "                       [0.        , 0.        , 0.        ],\n",
              "                       [0.        , 0.        , 0.        ],\n",
              "                       [0.        , 0.        , 0.        ]]],\n",
              "              \n",
              "              \n",
              "                     [[[0.10980392, 0.10980392, 0.10980392],\n",
              "                       [0.07058824, 0.07058824, 0.07058824],\n",
              "                       [0.06666667, 0.06666667, 0.06666667],\n",
              "                       ...,\n",
              "                       [0.8       , 0.8       , 0.8       ],\n",
              "                       [0.8156863 , 0.8156863 , 0.8156863 ],\n",
              "                       [0.8235294 , 0.8235294 , 0.8235294 ]],\n",
              "              \n",
              "                      [[0.11372549, 0.11372549, 0.11372549],\n",
              "                       [0.06666667, 0.06666667, 0.06666667],\n",
              "                       [0.0627451 , 0.0627451 , 0.0627451 ],\n",
              "                       ...,\n",
              "                       [0.79607844, 0.79607844, 0.79607844],\n",
              "                       [0.8117647 , 0.8117647 , 0.8117647 ],\n",
              "                       [0.81960785, 0.81960785, 0.81960785]],\n",
              "              \n",
              "                      [[0.10980392, 0.10980392, 0.10980392],\n",
              "                       [0.06666667, 0.06666667, 0.06666667],\n",
              "                       [0.05882353, 0.05882353, 0.05882353],\n",
              "                       ...,\n",
              "                       [0.79607844, 0.79607844, 0.79607844],\n",
              "                       [0.8117647 , 0.8117647 , 0.8117647 ],\n",
              "                       [0.8156863 , 0.8156863 , 0.8156863 ]],\n",
              "              \n",
              "                      ...,\n",
              "              \n",
              "                      [[0.11372549, 0.11372549, 0.11372549],\n",
              "                       [0.11372549, 0.11372549, 0.11372549],\n",
              "                       [0.10980392, 0.10980392, 0.10980392],\n",
              "                       ...,\n",
              "                       [0.08627451, 0.08627451, 0.08627451],\n",
              "                       [0.09019608, 0.09019608, 0.09019608],\n",
              "                       [0.09019608, 0.09019608, 0.09019608]],\n",
              "              \n",
              "                      [[0.11372549, 0.11372549, 0.11372549],\n",
              "                       [0.11372549, 0.11372549, 0.11372549],\n",
              "                       [0.10980392, 0.10980392, 0.10980392],\n",
              "                       ...,\n",
              "                       [0.08627451, 0.08627451, 0.08627451],\n",
              "                       [0.09019608, 0.09019608, 0.09019608],\n",
              "                       [0.09019608, 0.09019608, 0.09019608]],\n",
              "              \n",
              "                      [[0.11372549, 0.11372549, 0.11372549],\n",
              "                       [0.11372549, 0.11372549, 0.11372549],\n",
              "                       [0.10980392, 0.10980392, 0.10980392],\n",
              "                       ...,\n",
              "                       [0.08627451, 0.08627451, 0.08627451],\n",
              "                       [0.09019608, 0.09019608, 0.09019608],\n",
              "                       [0.09019608, 0.09019608, 0.09019608]]],\n",
              "              \n",
              "              \n",
              "                     [[[0.02745098, 0.02745098, 0.02745098],\n",
              "                       [0.01960784, 0.01960784, 0.01960784],\n",
              "                       [0.02352941, 0.02352941, 0.02352941],\n",
              "                       ...,\n",
              "                       [0.02745098, 0.02745098, 0.02745098],\n",
              "                       [0.02745098, 0.02745098, 0.02745098],\n",
              "                       [0.02352941, 0.02352941, 0.02352941]],\n",
              "              \n",
              "                      [[0.01960784, 0.01960784, 0.01960784],\n",
              "                       [0.01960784, 0.01960784, 0.01960784],\n",
              "                       [0.01960784, 0.01960784, 0.01960784],\n",
              "                       ...,\n",
              "                       [0.02352941, 0.02352941, 0.02352941],\n",
              "                       [0.02745098, 0.02745098, 0.02745098],\n",
              "                       [0.02745098, 0.02745098, 0.02745098]],\n",
              "              \n",
              "                      [[0.02352941, 0.02352941, 0.02352941],\n",
              "                       [0.01960784, 0.01960784, 0.01960784],\n",
              "                       [0.02352941, 0.02352941, 0.02352941],\n",
              "                       ...,\n",
              "                       [0.02352941, 0.02352941, 0.02352941],\n",
              "                       [0.02745098, 0.02745098, 0.02745098],\n",
              "                       [0.02745098, 0.02745098, 0.02745098]],\n",
              "              \n",
              "                      ...,\n",
              "              \n",
              "                      [[0.02352941, 0.02352941, 0.02352941],\n",
              "                       [0.01960784, 0.01960784, 0.01960784],\n",
              "                       [0.02352941, 0.02352941, 0.02352941],\n",
              "                       ...,\n",
              "                       [0.03137255, 0.03137255, 0.03137255],\n",
              "                       [0.02745098, 0.02745098, 0.02745098],\n",
              "                       [0.03137255, 0.03137255, 0.03137255]],\n",
              "              \n",
              "                      [[0.01960784, 0.01960784, 0.01960784],\n",
              "                       [0.01960784, 0.01960784, 0.01960784],\n",
              "                       [0.01960784, 0.01960784, 0.01960784],\n",
              "                       ...,\n",
              "                       [0.03137255, 0.03137255, 0.03137255],\n",
              "                       [0.03137255, 0.03137255, 0.03137255],\n",
              "                       [0.03137255, 0.03137255, 0.03137255]],\n",
              "              \n",
              "                      [[0.01960784, 0.01960784, 0.01960784],\n",
              "                       [0.01960784, 0.01960784, 0.01960784],\n",
              "                       [0.01960784, 0.01960784, 0.01960784],\n",
              "                       ...,\n",
              "                       [0.03137255, 0.03137255, 0.03137255],\n",
              "                       [0.03137255, 0.03137255, 0.03137255],\n",
              "                       [0.02745098, 0.02745098, 0.02745098]]],\n",
              "              \n",
              "              \n",
              "                     ...,\n",
              "              \n",
              "              \n",
              "                     [[[0.00392157, 0.00392157, 0.00392157],\n",
              "                       [0.04313726, 0.04313726, 0.04313726],\n",
              "                       [0.07843138, 0.07843138, 0.07843138],\n",
              "                       ...,\n",
              "                       [0.        , 0.        , 0.        ],\n",
              "                       [0.        , 0.        , 0.        ],\n",
              "                       [0.        , 0.        , 0.        ]],\n",
              "              \n",
              "                      [[0.        , 0.        , 0.        ],\n",
              "                       [0.03921569, 0.03921569, 0.03921569],\n",
              "                       [0.06666667, 0.06666667, 0.06666667],\n",
              "                       ...,\n",
              "                       [0.        , 0.        , 0.        ],\n",
              "                       [0.        , 0.        , 0.        ],\n",
              "                       [0.        , 0.        , 0.        ]],\n",
              "              \n",
              "                      [[0.        , 0.        , 0.        ],\n",
              "                       [0.03137255, 0.03137255, 0.03137255],\n",
              "                       [0.06666667, 0.06666667, 0.06666667],\n",
              "                       ...,\n",
              "                       [0.        , 0.        , 0.        ],\n",
              "                       [0.        , 0.        , 0.        ],\n",
              "                       [0.        , 0.        , 0.        ]],\n",
              "              \n",
              "                      ...,\n",
              "              \n",
              "                      [[0.        , 0.        , 0.        ],\n",
              "                       [0.        , 0.        , 0.        ],\n",
              "                       [0.        , 0.        , 0.        ],\n",
              "                       ...,\n",
              "                       [0.        , 0.        , 0.        ],\n",
              "                       [0.        , 0.        , 0.        ],\n",
              "                       [0.        , 0.        , 0.        ]],\n",
              "              \n",
              "                      [[0.        , 0.        , 0.        ],\n",
              "                       [0.        , 0.        , 0.        ],\n",
              "                       [0.        , 0.        , 0.        ],\n",
              "                       ...,\n",
              "                       [0.        , 0.        , 0.        ],\n",
              "                       [0.        , 0.        , 0.        ],\n",
              "                       [0.        , 0.        , 0.        ]],\n",
              "              \n",
              "                      [[0.        , 0.        , 0.        ],\n",
              "                       [0.        , 0.        , 0.        ],\n",
              "                       [0.        , 0.        , 0.        ],\n",
              "                       ...,\n",
              "                       [0.        , 0.        , 0.        ],\n",
              "                       [0.        , 0.        , 0.        ],\n",
              "                       [0.        , 0.        , 0.        ]]],\n",
              "              \n",
              "              \n",
              "                     [[[0.23529412, 0.23529412, 0.23529412],\n",
              "                       [0.21568628, 0.21568628, 0.21568628],\n",
              "                       [0.54901963, 0.54901963, 0.54901963],\n",
              "                       ...,\n",
              "                       [0.15294118, 0.15294118, 0.15294118],\n",
              "                       [0.13333334, 0.13333334, 0.13333334],\n",
              "                       [0.11372549, 0.11372549, 0.11372549]],\n",
              "              \n",
              "                      [[0.24313726, 0.24313726, 0.24313726],\n",
              "                       [0.22745098, 0.22745098, 0.22745098],\n",
              "                       [0.32156864, 0.32156864, 0.32156864],\n",
              "                       ...,\n",
              "                       [0.15686275, 0.15686275, 0.15686275],\n",
              "                       [0.13333334, 0.13333334, 0.13333334],\n",
              "                       [0.12941177, 0.12941177, 0.12941177]],\n",
              "              \n",
              "                      [[0.24705882, 0.24705882, 0.24705882],\n",
              "                       [0.23921569, 0.23921569, 0.23921569],\n",
              "                       [0.2       , 0.2       , 0.2       ],\n",
              "                       ...,\n",
              "                       [0.1764706 , 0.1764706 , 0.1764706 ],\n",
              "                       [0.15686275, 0.15686275, 0.15686275],\n",
              "                       [0.14117648, 0.14117648, 0.14117648]],\n",
              "              \n",
              "                      ...,\n",
              "              \n",
              "                      [[0.10588235, 0.10588235, 0.10588235],\n",
              "                       [0.10588235, 0.10588235, 0.10588235],\n",
              "                       [0.10588235, 0.10588235, 0.10588235],\n",
              "                       ...,\n",
              "                       [0.07843138, 0.07843138, 0.07843138],\n",
              "                       [0.09803922, 0.09803922, 0.09803922],\n",
              "                       [0.18431373, 0.18431373, 0.18431373]],\n",
              "              \n",
              "                      [[0.10588235, 0.10588235, 0.10588235],\n",
              "                       [0.10588235, 0.10588235, 0.10588235],\n",
              "                       [0.10588235, 0.10588235, 0.10588235],\n",
              "                       ...,\n",
              "                       [0.07843138, 0.07843138, 0.07843138],\n",
              "                       [0.08235294, 0.08235294, 0.08235294],\n",
              "                       [0.18431373, 0.18431373, 0.18431373]],\n",
              "              \n",
              "                      [[0.10588235, 0.10588235, 0.10588235],\n",
              "                       [0.10588235, 0.10588235, 0.10588235],\n",
              "                       [0.10588235, 0.10588235, 0.10588235],\n",
              "                       ...,\n",
              "                       [0.07843138, 0.07843138, 0.07843138],\n",
              "                       [0.07450981, 0.07450981, 0.07450981],\n",
              "                       [0.17254902, 0.17254902, 0.17254902]]],\n",
              "              \n",
              "              \n",
              "                     [[[0.08627451, 0.08627451, 0.08627451],\n",
              "                       [0.12156863, 0.12156863, 0.12156863],\n",
              "                       [0.14509805, 0.14509805, 0.14509805],\n",
              "                       ...,\n",
              "                       [0.2784314 , 0.2784314 , 0.2784314 ],\n",
              "                       [0.23529412, 0.23529412, 0.23529412],\n",
              "                       [0.17254902, 0.17254902, 0.17254902]],\n",
              "              \n",
              "                      [[0.10196079, 0.10196079, 0.10196079],\n",
              "                       [0.13333334, 0.13333334, 0.13333334],\n",
              "                       [0.15686275, 0.15686275, 0.15686275],\n",
              "                       ...,\n",
              "                       [0.27058825, 0.27058825, 0.27058825],\n",
              "                       [0.22745098, 0.22745098, 0.22745098],\n",
              "                       [0.1882353 , 0.1882353 , 0.1882353 ]],\n",
              "              \n",
              "                      [[0.11764706, 0.11764706, 0.11764706],\n",
              "                       [0.14117648, 0.14117648, 0.14117648],\n",
              "                       [0.13725491, 0.13725491, 0.13725491],\n",
              "                       ...,\n",
              "                       [0.2509804 , 0.2509804 , 0.2509804 ],\n",
              "                       [0.21176471, 0.21176471, 0.21176471],\n",
              "                       [0.16078432, 0.16078432, 0.16078432]],\n",
              "              \n",
              "                      ...,\n",
              "              \n",
              "                      [[0.7607843 , 0.7607843 , 0.7607843 ],\n",
              "                       [0.01176471, 0.01176471, 0.01176471],\n",
              "                       [0.        , 0.        , 0.        ],\n",
              "                       ...,\n",
              "                       [0.02352941, 0.02352941, 0.02352941],\n",
              "                       [0.01960784, 0.01960784, 0.01960784],\n",
              "                       [0.7647059 , 0.7647059 , 0.7647059 ]],\n",
              "              \n",
              "                      [[0.00784314, 0.00784314, 0.00784314],\n",
              "                       [0.00784314, 0.00784314, 0.00784314],\n",
              "                       [0.        , 0.        , 0.        ],\n",
              "                       ...,\n",
              "                       [0.02745098, 0.02745098, 0.02745098],\n",
              "                       [0.01568628, 0.01568628, 0.01568628],\n",
              "                       [0.00784314, 0.00784314, 0.00784314]],\n",
              "              \n",
              "                      [[0.        , 0.        , 0.        ],\n",
              "                       [0.        , 0.        , 0.        ],\n",
              "                       [0.        , 0.        , 0.        ],\n",
              "                       ...,\n",
              "                       [0.03921569, 0.03921569, 0.03921569],\n",
              "                       [0.02745098, 0.02745098, 0.02745098],\n",
              "                       [0.01960784, 0.01960784, 0.01960784]]]], dtype=float32)),\n",
              "             ('y', array([[0],\n",
              "                     [0],\n",
              "                     [1],\n",
              "                     [0],\n",
              "                     [1],\n",
              "                     [0],\n",
              "                     [0],\n",
              "                     [0],\n",
              "                     [0],\n",
              "                     [0],\n",
              "                     [0],\n",
              "                     [0],\n",
              "                     [0],\n",
              "                     [0],\n",
              "                     [0],\n",
              "                     [0],\n",
              "                     [0],\n",
              "                     [0],\n",
              "                     [0],\n",
              "                     [1],\n",
              "                     [0],\n",
              "                     [0],\n",
              "                     [0],\n",
              "                     [0],\n",
              "                     [0],\n",
              "                     [0],\n",
              "                     [0],\n",
              "                     [0],\n",
              "                     [0],\n",
              "                     [1],\n",
              "                     [0],\n",
              "                     [0]], dtype=int32))])"
            ]
          },
          "metadata": {
            "tags": []
          },
          "execution_count": 31
        }
      ]
    },
    {
      "cell_type": "code",
      "metadata": {
        "colab": {
          "base_uri": "https://localhost:8080/"
        },
        "id": "RVSAdRbSFSH1",
        "outputId": "9738ad9f-77dd-4b11-aa20-8c957bb53c00"
      },
      "source": [
        "def make_federated_data(client_data, client_ids):\n",
        "    return [preprocess(client_data.create_tf_dataset_for_client(x)) for x in client_ids]\n",
        "\n",
        "federated_train_data = make_federated_data(train_dataset, train_dataset.client_ids)\n",
        "#federated_test_data = make_federated_data(test_dataset, test_dataset.client_ids)\n",
        "print('Number of client datasets: {l}'.format(l=len(federated_train_data)))\n",
        "print('First dataset: {d}'.format(d=federated_train_data[0]))\n",
        "\n"
      ],
      "execution_count": 32,
      "outputs": [
        {
          "output_type": "stream",
          "text": [
            "Number of client datasets: 2\n",
            "First dataset: <PrefetchDataset shapes: OrderedDict([(x, (None, 224, 224, 3)), (y, (None, 1))]), types: OrderedDict([(x, tf.float32), (y, tf.int32)])>\n"
          ],
          "name": "stdout"
        }
      ]
    },
    {
      "cell_type": "code",
      "metadata": {
        "id": "eM2KUmqaSZQe"
      },
      "source": [
        "# def create_keras_model():\n",
        "\n",
        "#   # create the base pre-trained model\n",
        "#   base_model = InceptionV3(weights=None, include_top=False , input_shape=(224, 224, 3))\n",
        "#   x = base_model.output\n",
        "#   # x = Dropout(0.5)(x)\n",
        "#   x = GlobalAveragePooling2D()(x)\n",
        "#   x = Dense(128, activation='relu')(x)\n",
        "#   x = BatchNormalization()(x)\n",
        "#   predictions = Dense(1, activation='sigmoid')(x)\n",
        "#   model = Model(inputs=base_model.input, outputs=predictions)\n",
        "#   return model"
      ],
      "execution_count": 33,
      "outputs": []
    },
    {
      "cell_type": "code",
      "metadata": {
        "id": "9aA6YrFKFW_i"
      },
      "source": [
        "def create_keras_model(image_size = 224, load_previous_weights = False, freeze_cnn = False):\n",
        "    base_model = DenseNet121(include_top= False, input_shape=(image_size,image_size,3), weights=\"imagenet\")\n",
        "\n",
        "   \n",
        "    x = base_model.output\n",
        "    x = GlobalAveragePooling2D(input_shape=(1024,1,1))(x) \n",
        "    x = Dense(1024, activation='relu')(x)\n",
        "    x = BatchNormalization()(x)  \n",
        "    x = Dense(512, activation='relu')(x)\n",
        "    x = BatchNormalization()(x)\n",
        "    predictions = Dense(1, activation='sigmoid')(x)\n",
        "    \n",
        "    model = Model(inputs=base_model.input, outputs=predictions)\n",
        "\n",
        "  \n",
        "    return model"
      ],
      "execution_count": 34,
      "outputs": []
    },
    {
      "cell_type": "code",
      "metadata": {
        "id": "ppx80rZHFbLR"
      },
      "source": [
        "def model_fn():\n",
        "  # We _must_ create a new model here, and _not_ capture it from an external\n",
        "  # scope. TFF will call this within different graph contexts.\n",
        "\n",
        "  keras_model = create_keras_model()\n",
        "  return tff.learning.from_keras_model(\n",
        "      keras_model,\n",
        "      input_spec=preprocessed_sample_dataset.element_spec,\n",
        "      loss=losses.BinaryCrossentropy(),\n",
        "      metrics=[tf.keras.metrics.Accuracy()])\n",
        "\n"
      ],
      "execution_count": 36,
      "outputs": []
    },
    {
      "cell_type": "code",
      "metadata": {
        "colab": {
          "base_uri": "https://localhost:8080/"
        },
        "id": "LmqAXCdZFdQt",
        "outputId": "41e3eb19-7a1c-4fce-bf92-cf475621959b"
      },
      "source": [
        "iterative_process = tff.learning.build_federated_averaging_process(\n",
        "    model_fn,\n",
        "    client_optimizer_fn=lambda: optimizers.RMSprop(learning_rate=client_lr),\n",
        "    server_optimizer_fn=lambda: optimizers.RMSprop(learning_rate=server_lr))\n",
        "\n",
        "print(str(iterative_process.initialize.type_signature))\n",
        "\n"
      ],
      "execution_count": 37,
      "outputs": [
        {
          "output_type": "stream",
          "text": [
            "Downloading data from https://storage.googleapis.com/tensorflow/keras-applications/densenet/densenet121_weights_tf_dim_ordering_tf_kernels_notop.h5\n",
            "29089792/29084464 [==============================] - 0s 0us/step\n",
            "( -> <model=<trainable=<float32[7,7,3,64],float32[64],float32[64],float32[64],float32[64],float32[1,1,64,128],float32[128],float32[128],float32[3,3,128,32],float32[96],float32[96],float32[1,1,96,128],float32[128],float32[128],float32[3,3,128,32],float32[128],float32[128],float32[1,1,128,128],float32[128],float32[128],float32[3,3,128,32],float32[160],float32[160],float32[1,1,160,128],float32[128],float32[128],float32[3,3,128,32],float32[192],float32[192],float32[1,1,192,128],float32[128],float32[128],float32[3,3,128,32],float32[224],float32[224],float32[1,1,224,128],float32[128],float32[128],float32[3,3,128,32],float32[256],float32[256],float32[1,1,256,128],float32[128],float32[128],float32[1,1,128,128],float32[128],float32[128],float32[3,3,128,32],float32[160],float32[160],float32[1,1,160,128],float32[128],float32[128],float32[3,3,128,32],float32[192],float32[192],float32[1,1,192,128],float32[128],float32[128],float32[3,3,128,32],float32[224],float32[224],float32[1,1,224,128],float32[128],float32[128],float32[3,3,128,32],float32[256],float32[256],float32[1,1,256,128],float32[128],float32[128],float32[3,3,128,32],float32[288],float32[288],float32[1,1,288,128],float32[128],float32[128],float32[3,3,128,32],float32[320],float32[320],float32[1,1,320,128],float32[128],float32[128],float32[3,3,128,32],float32[352],float32[352],float32[1,1,352,128],float32[128],float32[128],float32[3,3,128,32],float32[384],float32[384],float32[1,1,384,128],float32[128],float32[128],float32[3,3,128,32],float32[416],float32[416],float32[1,1,416,128],float32[128],float32[128],float32[3,3,128,32],float32[448],float32[448],float32[1,1,448,128],float32[128],float32[128],float32[3,3,128,32],float32[480],float32[480],float32[1,1,480,128],float32[128],float32[128],float32[3,3,128,32],float32[512],float32[512],float32[1,1,512,256],float32[256],float32[256],float32[1,1,256,128],float32[128],float32[128],float32[3,3,128,32],float32[288],float32[288],float32[1,1,288,128],float32[128],float32[128],float32[3,3,128,32],float32[320],float32[320],float32[1,1,320,128],float32[128],float32[128],float32[3,3,128,32],float32[352],float32[352],float32[1,1,352,128],float32[128],float32[128],float32[3,3,128,32],float32[384],float32[384],float32[1,1,384,128],float32[128],float32[128],float32[3,3,128,32],float32[416],float32[416],float32[1,1,416,128],float32[128],float32[128],float32[3,3,128,32],float32[448],float32[448],float32[1,1,448,128],float32[128],float32[128],float32[3,3,128,32],float32[480],float32[480],float32[1,1,480,128],float32[128],float32[128],float32[3,3,128,32],float32[512],float32[512],float32[1,1,512,128],float32[128],float32[128],float32[3,3,128,32],float32[544],float32[544],float32[1,1,544,128],float32[128],float32[128],float32[3,3,128,32],float32[576],float32[576],float32[1,1,576,128],float32[128],float32[128],float32[3,3,128,32],float32[608],float32[608],float32[1,1,608,128],float32[128],float32[128],float32[3,3,128,32],float32[640],float32[640],float32[1,1,640,128],float32[128],float32[128],float32[3,3,128,32],float32[672],float32[672],float32[1,1,672,128],float32[128],float32[128],float32[3,3,128,32],float32[704],float32[704],float32[1,1,704,128],float32[128],float32[128],float32[3,3,128,32],float32[736],float32[736],float32[1,1,736,128],float32[128],float32[128],float32[3,3,128,32],float32[768],float32[768],float32[1,1,768,128],float32[128],float32[128],float32[3,3,128,32],float32[800],float32[800],float32[1,1,800,128],float32[128],float32[128],float32[3,3,128,32],float32[832],float32[832],float32[1,1,832,128],float32[128],float32[128],float32[3,3,128,32],float32[864],float32[864],float32[1,1,864,128],float32[128],float32[128],float32[3,3,128,32],float32[896],float32[896],float32[1,1,896,128],float32[128],float32[128],float32[3,3,128,32],float32[928],float32[928],float32[1,1,928,128],float32[128],float32[128],float32[3,3,128,32],float32[960],float32[960],float32[1,1,960,128],float32[128],float32[128],float32[3,3,128,32],float32[992],float32[992],float32[1,1,992,128],float32[128],float32[128],float32[3,3,128,32],float32[1024],float32[1024],float32[1,1,1024,512],float32[512],float32[512],float32[1,1,512,128],float32[128],float32[128],float32[3,3,128,32],float32[544],float32[544],float32[1,1,544,128],float32[128],float32[128],float32[3,3,128,32],float32[576],float32[576],float32[1,1,576,128],float32[128],float32[128],float32[3,3,128,32],float32[608],float32[608],float32[1,1,608,128],float32[128],float32[128],float32[3,3,128,32],float32[640],float32[640],float32[1,1,640,128],float32[128],float32[128],float32[3,3,128,32],float32[672],float32[672],float32[1,1,672,128],float32[128],float32[128],float32[3,3,128,32],float32[704],float32[704],float32[1,1,704,128],float32[128],float32[128],float32[3,3,128,32],float32[736],float32[736],float32[1,1,736,128],float32[128],float32[128],float32[3,3,128,32],float32[768],float32[768],float32[1,1,768,128],float32[128],float32[128],float32[3,3,128,32],float32[800],float32[800],float32[1,1,800,128],float32[128],float32[128],float32[3,3,128,32],float32[832],float32[832],float32[1,1,832,128],float32[128],float32[128],float32[3,3,128,32],float32[864],float32[864],float32[1,1,864,128],float32[128],float32[128],float32[3,3,128,32],float32[896],float32[896],float32[1,1,896,128],float32[128],float32[128],float32[3,3,128,32],float32[928],float32[928],float32[1,1,928,128],float32[128],float32[128],float32[3,3,128,32],float32[960],float32[960],float32[1,1,960,128],float32[128],float32[128],float32[3,3,128,32],float32[992],float32[992],float32[1,1,992,128],float32[128],float32[128],float32[3,3,128,32],float32[1024],float32[1024],float32[1024,1024],float32[1024],float32[1024],float32[1024],float32[1024,512],float32[512],float32[512],float32[512],float32[512,1],float32[1]>,non_trainable=<float32[64],float32[64],float32[64],float32[64],float32[128],float32[128],float32[96],float32[96],float32[128],float32[128],float32[128],float32[128],float32[128],float32[128],float32[160],float32[160],float32[128],float32[128],float32[192],float32[192],float32[128],float32[128],float32[224],float32[224],float32[128],float32[128],float32[256],float32[256],float32[128],float32[128],float32[128],float32[128],float32[160],float32[160],float32[128],float32[128],float32[192],float32[192],float32[128],float32[128],float32[224],float32[224],float32[128],float32[128],float32[256],float32[256],float32[128],float32[128],float32[288],float32[288],float32[128],float32[128],float32[320],float32[320],float32[128],float32[128],float32[352],float32[352],float32[128],float32[128],float32[384],float32[384],float32[128],float32[128],float32[416],float32[416],float32[128],float32[128],float32[448],float32[448],float32[128],float32[128],float32[480],float32[480],float32[128],float32[128],float32[512],float32[512],float32[256],float32[256],float32[128],float32[128],float32[288],float32[288],float32[128],float32[128],float32[320],float32[320],float32[128],float32[128],float32[352],float32[352],float32[128],float32[128],float32[384],float32[384],float32[128],float32[128],float32[416],float32[416],float32[128],float32[128],float32[448],float32[448],float32[128],float32[128],float32[480],float32[480],float32[128],float32[128],float32[512],float32[512],float32[128],float32[128],float32[544],float32[544],float32[128],float32[128],float32[576],float32[576],float32[128],float32[128],float32[608],float32[608],float32[128],float32[128],float32[640],float32[640],float32[128],float32[128],float32[672],float32[672],float32[128],float32[128],float32[704],float32[704],float32[128],float32[128],float32[736],float32[736],float32[128],float32[128],float32[768],float32[768],float32[128],float32[128],float32[800],float32[800],float32[128],float32[128],float32[832],float32[832],float32[128],float32[128],float32[864],float32[864],float32[128],float32[128],float32[896],float32[896],float32[128],float32[128],float32[928],float32[928],float32[128],float32[128],float32[960],float32[960],float32[128],float32[128],float32[992],float32[992],float32[128],float32[128],float32[1024],float32[1024],float32[512],float32[512],float32[128],float32[128],float32[544],float32[544],float32[128],float32[128],float32[576],float32[576],float32[128],float32[128],float32[608],float32[608],float32[128],float32[128],float32[640],float32[640],float32[128],float32[128],float32[672],float32[672],float32[128],float32[128],float32[704],float32[704],float32[128],float32[128],float32[736],float32[736],float32[128],float32[128],float32[768],float32[768],float32[128],float32[128],float32[800],float32[800],float32[128],float32[128],float32[832],float32[832],float32[128],float32[128],float32[864],float32[864],float32[128],float32[128],float32[896],float32[896],float32[128],float32[128],float32[928],float32[928],float32[128],float32[128],float32[960],float32[960],float32[128],float32[128],float32[992],float32[992],float32[128],float32[128],float32[1024],float32[1024],float32[1024],float32[1024],float32[512],float32[512]>>,optimizer_state=<int64,float32[7,7,3,64],float32[64],float32[64],float32[64],float32[64],float32[1,1,64,128],float32[128],float32[128],float32[3,3,128,32],float32[96],float32[96],float32[1,1,96,128],float32[128],float32[128],float32[3,3,128,32],float32[128],float32[128],float32[1,1,128,128],float32[128],float32[128],float32[3,3,128,32],float32[160],float32[160],float32[1,1,160,128],float32[128],float32[128],float32[3,3,128,32],float32[192],float32[192],float32[1,1,192,128],float32[128],float32[128],float32[3,3,128,32],float32[224],float32[224],float32[1,1,224,128],float32[128],float32[128],float32[3,3,128,32],float32[256],float32[256],float32[1,1,256,128],float32[128],float32[128],float32[1,1,128,128],float32[128],float32[128],float32[3,3,128,32],float32[160],float32[160],float32[1,1,160,128],float32[128],float32[128],float32[3,3,128,32],float32[192],float32[192],float32[1,1,192,128],float32[128],float32[128],float32[3,3,128,32],float32[224],float32[224],float32[1,1,224,128],float32[128],float32[128],float32[3,3,128,32],float32[256],float32[256],float32[1,1,256,128],float32[128],float32[128],float32[3,3,128,32],float32[288],float32[288],float32[1,1,288,128],float32[128],float32[128],float32[3,3,128,32],float32[320],float32[320],float32[1,1,320,128],float32[128],float32[128],float32[3,3,128,32],float32[352],float32[352],float32[1,1,352,128],float32[128],float32[128],float32[3,3,128,32],float32[384],float32[384],float32[1,1,384,128],float32[128],float32[128],float32[3,3,128,32],float32[416],float32[416],float32[1,1,416,128],float32[128],float32[128],float32[3,3,128,32],float32[448],float32[448],float32[1,1,448,128],float32[128],float32[128],float32[3,3,128,32],float32[480],float32[480],float32[1,1,480,128],float32[128],float32[128],float32[3,3,128,32],float32[512],float32[512],float32[1,1,512,256],float32[256],float32[256],float32[1,1,256,128],float32[128],float32[128],float32[3,3,128,32],float32[288],float32[288],float32[1,1,288,128],float32[128],float32[128],float32[3,3,128,32],float32[320],float32[320],float32[1,1,320,128],float32[128],float32[128],float32[3,3,128,32],float32[352],float32[352],float32[1,1,352,128],float32[128],float32[128],float32[3,3,128,32],float32[384],float32[384],float32[1,1,384,128],float32[128],float32[128],float32[3,3,128,32],float32[416],float32[416],float32[1,1,416,128],float32[128],float32[128],float32[3,3,128,32],float32[448],float32[448],float32[1,1,448,128],float32[128],float32[128],float32[3,3,128,32],float32[480],float32[480],float32[1,1,480,128],float32[128],float32[128],float32[3,3,128,32],float32[512],float32[512],float32[1,1,512,128],float32[128],float32[128],float32[3,3,128,32],float32[544],float32[544],float32[1,1,544,128],float32[128],float32[128],float32[3,3,128,32],float32[576],float32[576],float32[1,1,576,128],float32[128],float32[128],float32[3,3,128,32],float32[608],float32[608],float32[1,1,608,128],float32[128],float32[128],float32[3,3,128,32],float32[640],float32[640],float32[1,1,640,128],float32[128],float32[128],float32[3,3,128,32],float32[672],float32[672],float32[1,1,672,128],float32[128],float32[128],float32[3,3,128,32],float32[704],float32[704],float32[1,1,704,128],float32[128],float32[128],float32[3,3,128,32],float32[736],float32[736],float32[1,1,736,128],float32[128],float32[128],float32[3,3,128,32],float32[768],float32[768],float32[1,1,768,128],float32[128],float32[128],float32[3,3,128,32],float32[800],float32[800],float32[1,1,800,128],float32[128],float32[128],float32[3,3,128,32],float32[832],float32[832],float32[1,1,832,128],float32[128],float32[128],float32[3,3,128,32],float32[864],float32[864],float32[1,1,864,128],float32[128],float32[128],float32[3,3,128,32],float32[896],float32[896],float32[1,1,896,128],float32[128],float32[128],float32[3,3,128,32],float32[928],float32[928],float32[1,1,928,128],float32[128],float32[128],float32[3,3,128,32],float32[960],float32[960],float32[1,1,960,128],float32[128],float32[128],float32[3,3,128,32],float32[992],float32[992],float32[1,1,992,128],float32[128],float32[128],float32[3,3,128,32],float32[1024],float32[1024],float32[1,1,1024,512],float32[512],float32[512],float32[1,1,512,128],float32[128],float32[128],float32[3,3,128,32],float32[544],float32[544],float32[1,1,544,128],float32[128],float32[128],float32[3,3,128,32],float32[576],float32[576],float32[1,1,576,128],float32[128],float32[128],float32[3,3,128,32],float32[608],float32[608],float32[1,1,608,128],float32[128],float32[128],float32[3,3,128,32],float32[640],float32[640],float32[1,1,640,128],float32[128],float32[128],float32[3,3,128,32],float32[672],float32[672],float32[1,1,672,128],float32[128],float32[128],float32[3,3,128,32],float32[704],float32[704],float32[1,1,704,128],float32[128],float32[128],float32[3,3,128,32],float32[736],float32[736],float32[1,1,736,128],float32[128],float32[128],float32[3,3,128,32],float32[768],float32[768],float32[1,1,768,128],float32[128],float32[128],float32[3,3,128,32],float32[800],float32[800],float32[1,1,800,128],float32[128],float32[128],float32[3,3,128,32],float32[832],float32[832],float32[1,1,832,128],float32[128],float32[128],float32[3,3,128,32],float32[864],float32[864],float32[1,1,864,128],float32[128],float32[128],float32[3,3,128,32],float32[896],float32[896],float32[1,1,896,128],float32[128],float32[128],float32[3,3,128,32],float32[928],float32[928],float32[1,1,928,128],float32[128],float32[128],float32[3,3,128,32],float32[960],float32[960],float32[1,1,960,128],float32[128],float32[128],float32[3,3,128,32],float32[992],float32[992],float32[1,1,992,128],float32[128],float32[128],float32[3,3,128,32],float32[1024],float32[1024],float32[1024,1024],float32[1024],float32[1024],float32[1024],float32[1024,512],float32[512],float32[512],float32[512],float32[512,1],float32[1]>,delta_aggregate_state=<value_sum_process=<>,weight_sum_process=<>>,model_broadcast_state=<>>@SERVER)\n"
          ],
          "name": "stdout"
        }
      ]
    },
    {
      "cell_type": "code",
      "metadata": {
        "id": "QtsZ8mHy1U4j",
        "colab": {
          "base_uri": "https://localhost:8080/"
        },
        "outputId": "d6336b2c-e8fb-435a-d887-ab5fe94419d3"
      },
      "source": [
        "!rm -R /tmp/logs/scalars/*"
      ],
      "execution_count": 38,
      "outputs": [
        {
          "output_type": "stream",
          "text": [
            "rm: cannot remove '/tmp/logs/scalars/*': No such file or directory\n"
          ],
          "name": "stdout"
        }
      ]
    },
    {
      "cell_type": "code",
      "metadata": {
        "id": "Ey6tnMyXKbW5"
      },
      "source": [
        "logdir = \"/tmp/logs/scalars/training/\"\n",
        "summary_writer = tf.summary.create_file_writer(logdir)"
      ],
      "execution_count": 39,
      "outputs": []
    },
    {
      "cell_type": "code",
      "metadata": {
        "id": "ApBbTRNn9jPU"
      },
      "source": [
        "# evaluation = tff.learning.build_federated_evaluation(model_fn)"
      ],
      "execution_count": 40,
      "outputs": []
    },
    {
      "cell_type": "code",
      "metadata": {
        "id": "aVNLTbTcnSx3"
      },
      "source": [
        "tff_train_acc = []\n",
        "tff_val_acc = []\n",
        "tff_train_loss = []\n",
        "tff_val_loss = []\n"
      ],
      "execution_count": 41,
      "outputs": []
    },
    {
      "cell_type": "code",
      "metadata": {
        "id": "DpIaqJTvVPCd"
      },
      "source": [
        "def keras_evaluate(state, round_num):\n",
        "  # Take our global model weights and push them back into a Keras model to\n",
        "  # use its standard `.evaluate()` method.\n",
        "  keras_model = create_keras_model()\n",
        "  keras_model.compile(\n",
        "      loss=losses.BinaryCrossentropy(),\n",
        "      metrics=[tf.keras.metrics.Accuracy()])\n",
        "  state.model.assign_weights_to(keras_model)\n",
        "  loss, accuracy = keras_model.evaluate(x=x_test,y=y_test, verbose=0)\n",
        "  tff_val_acc.append(accuracy)\n",
        "  tff_val_loss.append(loss)\n",
        "  print('\\tEval: loss={l:.3f}, accuracy={a:.3f}'.format(l=loss, a=accuracy))\n"
      ],
      "execution_count": 42,
      "outputs": []
    },
    {
      "cell_type": "code",
      "metadata": {
        "id": "oaXBzNYrTR4Q"
      },
      "source": [
        ""
      ],
      "execution_count": 42,
      "outputs": []
    },
    {
      "cell_type": "code",
      "metadata": {
        "id": "BQ_mNk71KnyV",
        "colab": {
          "base_uri": "https://localhost:8080/"
        },
        "outputId": "616983ce-2dda-4ba1-e681-deaeb6df8011"
      },
      "source": [
        "state = iterative_process.initialize()\n",
        "with summary_writer.as_default():\n",
        "  for round_num in range(1, NUM_ROUNDS):\n",
        "    t1 = time.time()\n",
        "    state, metrics = iterative_process.next(state, federated_train_data)\n",
        "    t2 = time.time()\n",
        "    print('round {:2d}, metrics={},round time {t:.2f} seconds'.format(round_num, metrics,t=t2 - t1))\n",
        "    tff_train_acc.append(float(metrics['train']['accuracy']))\n",
        "    tff_train_loss.append(float(metrics['train']['loss']))\n",
        "    #keras_evaluate(state, round_num)\n",
        "    for name, value in metrics['train'].items():\n",
        "      tf.summary.scalar(name, value, step=round_num)"
      ],
      "execution_count": 42,
      "outputs": [
        {
          "output_type": "stream",
          "text": [
            "round  1, metrics=OrderedDict([('broadcast', ()), ('aggregation', OrderedDict([('value_sum_process', ()), ('weight_sum_process', ())])), ('train', OrderedDict([('accuracy', 0.053960964), ('loss', 2.5777788)]))]),round time 344.94 seconds\n",
            "round  2, metrics=OrderedDict([('broadcast', ()), ('aggregation', OrderedDict([('value_sum_process', ()), ('weight_sum_process', ())])), ('train', OrderedDict([('accuracy', 0.7255645), ('loss', 2.184331)]))]),round time 236.56 seconds\n",
            "round  3, metrics=OrderedDict([('broadcast', ()), ('aggregation', OrderedDict([('value_sum_process', ()), ('weight_sum_process', ())])), ('train', OrderedDict([('accuracy', 0.19115959), ('loss', 1.1357597)]))]),round time 235.98 seconds\n",
            "round  4, metrics=OrderedDict([('broadcast', ()), ('aggregation', OrderedDict([('value_sum_process', ()), ('weight_sum_process', ())])), ('train', OrderedDict([('accuracy', 0.23895904), ('loss', 0.9595516)]))]),round time 235.51 seconds\n",
            "round  5, metrics=OrderedDict([('broadcast', ()), ('aggregation', OrderedDict([('value_sum_process', ()), ('weight_sum_process', ())])), ('train', OrderedDict([('accuracy', 0.3004975), ('loss', 0.7859055)]))]),round time 235.95 seconds\n",
            "round  6, metrics=OrderedDict([('broadcast', ()), ('aggregation', OrderedDict([('value_sum_process', ()), ('weight_sum_process', ())])), ('train', OrderedDict([('accuracy', 0.42598546), ('loss', 0.7126396)]))]),round time 235.62 seconds\n",
            "round  7, metrics=OrderedDict([('broadcast', ()), ('aggregation', OrderedDict([('value_sum_process', ()), ('weight_sum_process', ())])), ('train', OrderedDict([('accuracy', 0.52016836), ('loss', 0.6258332)]))]),round time 235.70 seconds\n",
            "round  8, metrics=OrderedDict([('broadcast', ()), ('aggregation', OrderedDict([('value_sum_process', ()), ('weight_sum_process', ())])), ('train', OrderedDict([('accuracy', 0.5758515), ('loss', 0.55917746)]))]),round time 235.70 seconds\n",
            "round  9, metrics=OrderedDict([('broadcast', ()), ('aggregation', OrderedDict([('value_sum_process', ()), ('weight_sum_process', ())])), ('train', OrderedDict([('accuracy', 0.5853425), ('loss', 0.49950728)]))]),round time 236.02 seconds\n",
            "round 10, metrics=OrderedDict([('broadcast', ()), ('aggregation', OrderedDict([('value_sum_process', ()), ('weight_sum_process', ())])), ('train', OrderedDict([('accuracy', 0.5970149), ('loss', 0.48971152)]))]),round time 235.80 seconds\n",
            "round 11, metrics=OrderedDict([('broadcast', ()), ('aggregation', OrderedDict([('value_sum_process', ()), ('weight_sum_process', ())])), ('train', OrderedDict([('accuracy', 0.6377344), ('loss', 0.49747366)]))]),round time 235.46 seconds\n",
            "round 12, metrics=OrderedDict([('broadcast', ()), ('aggregation', OrderedDict([('value_sum_process', ()), ('weight_sum_process', ())])), ('train', OrderedDict([('accuracy', 0.65411407), ('loss', 0.40773708)]))]),round time 235.40 seconds\n",
            "round 13, metrics=OrderedDict([('broadcast', ()), ('aggregation', OrderedDict([('value_sum_process', ()), ('weight_sum_process', ())])), ('train', OrderedDict([('accuracy', 0.73731345), ('loss', 0.38815492)]))]),round time 235.97 seconds\n",
            "round 14, metrics=OrderedDict([('broadcast', ()), ('aggregation', OrderedDict([('value_sum_process', ()), ('weight_sum_process', ())])), ('train', OrderedDict([('accuracy', 0.75135857), ('loss', 0.39186415)]))]),round time 235.18 seconds\n",
            "round 15, metrics=OrderedDict([('broadcast', ()), ('aggregation', OrderedDict([('value_sum_process', ()), ('weight_sum_process', ())])), ('train', OrderedDict([('accuracy', 0.7950249), ('loss', 0.35336185)]))]),round time 235.45 seconds\n",
            "round 16, metrics=OrderedDict([('broadcast', ()), ('aggregation', OrderedDict([('value_sum_process', ()), ('weight_sum_process', ())])), ('train', OrderedDict([('accuracy', 0.7725603), ('loss', 0.34688625)]))]),round time 235.65 seconds\n",
            "round 17, metrics=OrderedDict([('broadcast', ()), ('aggregation', OrderedDict([('value_sum_process', ()), ('weight_sum_process', ())])), ('train', OrderedDict([('accuracy', 0.81339455), ('loss', 0.33438748)]))]),round time 234.47 seconds\n",
            "round 18, metrics=OrderedDict([('broadcast', ()), ('aggregation', OrderedDict([('value_sum_process', ()), ('weight_sum_process', ())])), ('train', OrderedDict([('accuracy', 0.8413318), ('loss', 0.3057245)]))]),round time 235.84 seconds\n",
            "round 19, metrics=OrderedDict([('broadcast', ()), ('aggregation', OrderedDict([('value_sum_process', ()), ('weight_sum_process', ())])), ('train', OrderedDict([('accuracy', 0.8561041), ('loss', 0.303269)]))]),round time 235.82 seconds\n",
            "round 20, metrics=OrderedDict([('broadcast', ()), ('aggregation', OrderedDict([('value_sum_process', ()), ('weight_sum_process', ())])), ('train', OrderedDict([('accuracy', 0.90723306), ('loss', 0.25401017)]))]),round time 235.60 seconds\n"
          ],
          "name": "stdout"
        }
      ]
    },
    {
      "cell_type": "code",
      "metadata": {
        "id": "ZqLuY4PGQrWM"
      },
      "source": [
        "# for round_num in range(11, 21):\n",
        "#     state, metrics = iterative_process.next(state, federated_train_data)\n",
        "#     #test_metrics = evaluation(state.model, federated_test_data)\n",
        "#     #print(test_metrics)\n",
        "#     keras_evaluate(state, round_num)\n",
        "#     print('round {:2d}, metrics={}'.format(round_num, metrics))\n",
        "#     for name, value in metrics['train'].items():\n",
        "#       tf.summary.scalar(name, value, step=round_num)"
      ],
      "execution_count": null,
      "outputs": []
    },
    {
      "cell_type": "code",
      "metadata": {
        "id": "w4sfnOQtePlY"
      },
      "source": [
        ""
      ],
      "execution_count": null,
      "outputs": []
    },
    {
      "cell_type": "code",
      "metadata": {
        "id": "-2ZJcORKXpLf"
      },
      "source": [
        "from sklearn.metrics import classification_report\n",
        "from sklearn.metrics import confusion_matrix\n"
      ],
      "execution_count": 45,
      "outputs": []
    },
    {
      "cell_type": "code",
      "metadata": {
        "id": "acdyZUewpZ0l"
      },
      "source": [
        "keras_model = create_keras_model()\n",
        "keras_model.compile(\n",
        "    loss=losses.BinaryCrossentropy(),\n",
        "    metrics=[tf.keras.metrics.Accuracy()])\n",
        "state.model.assign_weights_to(keras_model)"
      ],
      "execution_count": 49,
      "outputs": []
    },
    {
      "cell_type": "code",
      "metadata": {
        "id": "rSPYcM0ApNfn"
      },
      "source": [
        "predicted = keras_model.predict(x_test)\n",
        "report = confusion_matrix(y_test, predicted)\n",
        "print(report)\n",
        "print(classification_report(y_test,predicted))"
      ],
      "execution_count": null,
      "outputs": []
    },
    {
      "cell_type": "code",
      "metadata": {
        "id": "F2D7k2MXTDs9"
      },
      "source": [
        "output_dir=\"/content/drive/MyDrive/\""
      ],
      "execution_count": null,
      "outputs": []
    },
    {
      "cell_type": "code",
      "metadata": {
        "id": "vYXqx-0Hut67"
      },
      "source": [
        "labels = ['PNEUMONIA', 'NORMAL']"
      ],
      "execution_count": null,
      "outputs": []
    },
    {
      "cell_type": "code",
      "metadata": {
        "id": "cmtWouRVuATm"
      },
      "source": [
        "report = pd.DataFrame(report , index = ['0','1'] , columns = ['0','1'])"
      ],
      "execution_count": null,
      "outputs": []
    },
    {
      "cell_type": "code",
      "metadata": {
        "id": "dkbGLay7uGz9"
      },
      "source": [
        "plt.figure(figsize = (10,10))\n",
        "sns.heatmap(report,cmap= \"Blues\", linecolor = 'black' , linewidth = 1 , annot = True, fmt='',xticklabels = labels,yticklabels = labels)"
      ],
      "execution_count": null,
      "outputs": []
    },
    {
      "cell_type": "code",
      "metadata": {
        "id": "ZY6aYrZyviPD"
      },
      "source": [
        "from sklearn.metrics import roc_curve\n",
        "y_pred_keras = keras_model.predict(x_test).ravel()\n",
        "fpr_keras, tpr_keras, thresholds_keras = roc_curve(y_test, y_pred_keras)"
      ],
      "execution_count": null,
      "outputs": []
    },
    {
      "cell_type": "code",
      "metadata": {
        "id": "LJx2Q3wWvsdb"
      },
      "source": [
        "from sklearn.metrics import auc\n",
        "auc_keras = auc(fpr_keras, tpr_keras)"
      ],
      "execution_count": null,
      "outputs": []
    },
    {
      "cell_type": "code",
      "metadata": {
        "id": "RYZCeczETYzn"
      },
      "source": [
        "output_dir=\"/content/drive/MyDrive/\""
      ],
      "execution_count": 43,
      "outputs": []
    },
    {
      "cell_type": "code",
      "metadata": {
        "id": "sPiRY72xREb4"
      },
      "source": [
        "from matplotlib import pyplot as plt\n",
        "\n",
        "\n",
        "def plot_graph(X, y, format = '-', label=''):\n",
        "    plt.plot(X, y, format, label=label)\n",
        "    plt.xlabel(\"Epoch\")\n",
        "    plt.ylabel(\"Value\")\n",
        "    plt.grid(True)"
      ],
      "execution_count": 45,
      "outputs": []
    },
    {
      "cell_type": "code",
      "metadata": {
        "id": "_D98BalaRF8V",
        "colab": {
          "base_uri": "https://localhost:8080/",
          "height": 759
        },
        "outputId": "db5c6e1c-8d5d-4c48-943a-039f0c62858b"
      },
      "source": [
        "fig = plt.figure(figsize=(10, 6))\n",
        "#plot_graph(list(range(len(tff_train_acc))), tff_train_acc, label='Accuracy')\n",
        "plot_graph([1,2,3,4,5,6,7,8,9,10,11,12,13,14,15,16,17,18,19,20], tff_train_acc, label='Accuracy')\n",
        "#plot_graph(list(range(len(tff_val_acc))), tff_val_acc, label='Validation Accuracy')\n",
        "plt.legend()\n",
        "plt.savefig(output_dir+\"federated_model_Accuracy.png\")\n",
        "\n",
        "plt.figure(figsize=(10, 6))\n",
        "plot_graph([1,2,3,4,5,6,7,8,9,10,11,12,13,14,15,16,17,18,19,20], tff_train_loss, label='loss')\n",
        "#plot_graph(list(range(len(tff_val_loss))), tff_val_loss, label='Validation loss')\n",
        "plt.legend()\n",
        "plt.savefig(output_dir+\"federated_model_loss.png\")"
      ],
      "execution_count": 48,
      "outputs": [
        {
          "output_type": "display_data",
          "data": {
            "image/png": "[encoded data removed]",
            "text/plain": [
              "<Figure size 720x432 with 1 Axes>"
            ]
          },
          "metadata": {
            "tags": [],
            "needs_background": "light"
          }
        },
        {
          "output_type": "display_data",
          "data": {
            "image/png": "[encoded data removed]",
            "text/plain": [
              "<Figure size 720x432 with 1 Axes>"
            ]
          },
          "metadata": {
            "tags": [],
            "needs_background": "light"
          }
        }
      ]
    },
    {
      "cell_type": "markdown",
      "metadata": {
        "id": "EdHVQrqyDB50"
      },
      "source": [
        "# Memory Information"
      ]
    },
    {
      "cell_type": "code",
      "metadata": {
        "id": "2Z2UhoV8FfZD"
      },
      "source": [
        "\"\"\"state = iterative_process.initialize()\n",
        "NUM_ROUNDS = 11\n",
        "for round_num in range(1, NUM_ROUNDS):\n",
        "    state, metrics = iterative_process.next(state, federated_train_data)\n",
        "    \n",
        "    print('round {:2d}, metrics={}'.format(round_num, metrics))\n",
        "   # print(f\"Eval loss : {ev_result[0]} and Eval accuracy : {ev_result[1]}\")\"\"\""
      ],
      "execution_count": null,
      "outputs": []
    },
    {
      "cell_type": "code",
      "metadata": {
        "id": "1_4vFbOCPX4Q"
      },
      "source": [
        "#%load_ext tensorboard"
      ],
      "execution_count": null,
      "outputs": []
    },
    {
      "cell_type": "code",
      "metadata": {
        "id": "oXqNY9bHFmMv"
      },
      "source": [
        "# !ls {logdir}\n",
        "# %tensorboard --logdir {logdir} --port=2"
      ],
      "execution_count": null,
      "outputs": []
    },
    {
      "cell_type": "code",
      "metadata": {
        "id": "LxrUMeRbNKeW"
      },
      "source": [
        "# keras_model1 = create_keras_model()"
      ],
      "execution_count": null,
      "outputs": []
    },
    {
      "cell_type": "code",
      "metadata": {
        "id": "rgfg3ZIEv6j1"
      },
      "source": [
        "# keras_model1.compile( loss=losses.BinaryCrossentropy(),\n",
        "      # metrics=[tf.keras.metrics.Accuracy()])"
      ],
      "execution_count": null,
      "outputs": []
    },
    {
      "cell_type": "code",
      "metadata": {
        "id": "7XSizSTA0ke5"
      },
      "source": [
        "# testdata = collections.OrderedDict((('label', y_test), ('pixels', x_test)))"
      ],
      "execution_count": null,
      "outputs": []
    },
    {
      "cell_type": "code",
      "metadata": {
        "id": "ixwVn0r50vLg"
      },
      "source": [
        "# preptest = preprocess(testdata)"
      ],
      "execution_count": null,
      "outputs": []
    },
    {
      "cell_type": "code",
      "metadata": {
        "id": "1qZsdZkk1x_B"
      },
      "source": [
        "# print(y_test)"
      ],
      "execution_count": null,
      "outputs": []
    },
    {
      "cell_type": "code",
      "metadata": {
        "id": "WYrf9Ewl1qgj"
      },
      "source": [
        "# x_test = np.array(x_test, dtype=np.float32).reshape(624, 224, 224, 3)\n",
        "# y_test = np.array(y_test, dtype=np.int32).reshape(624, 1)"
      ],
      "execution_count": null,
      "outputs": []
    },
    {
      "cell_type": "code",
      "metadata": {
        "id": "h8jcF04lwYiN"
      },
      "source": [
        "# state.model.assign_weights_to(keras_model1)\n",
        "# loss, accuracy = keras_model1.evaluate(x_test, y_test, verbose=0)\n",
        "# print('\\tEval: loss={l:.3f}, accuracy={a:.3f}'.format(l=loss, a=accuracy))"
      ],
      "execution_count": null,
      "outputs": []
    }
  ]
}